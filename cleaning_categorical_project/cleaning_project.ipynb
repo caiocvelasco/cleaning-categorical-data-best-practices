{
 "cells": [
  {
   "cell_type": "markdown",
   "metadata": {},
   "source": [
    "# Data Cleaning Process\n",
    "\n",
    "## Categorical vs. Numerical\n",
    "\n",
    "| **Categorical**                                   | **Numerical**                                  |\n",
    "|---------------------------------------------------|------------------------------------------------|\n",
    "| Finite number of groups or categories. Also known as **Qualitative** data | Expressed using numerical values. Also known as **Quantitative** data. Represents measurements (e.g., height)               |\n",
    "\n",
    "## Categorical Variables: Ordinal vs. Nominal\n",
    "\n",
    "| **Ordinal**                                   | **Nominal**                                   |\n",
    "|---------------------------------------------------|-------------------------------------------|\n",
    "| Categorical variables that have a **natural order**. <br> E.g.: Strongly Disagree ... Strongly Agree | Categorical variables **without order**. <br> E.g.: Blue, Red, ... |\n",
    "\n",
    "## Cleaning Procedures\n",
    "\n",
    "| **Converting Categorical Data**                                                                                  |\n",
    "|------------------------------------------------------------------------------------------------------------------|\n",
    "| (Two-factor categories) Data w/ **2 categories**: yes/no → Convert to `bool`.                                        |\n",
    "| (Nominal data) Data w/ **few unique values** and **no natural ordering** → Convert to `category`.                |\n",
    "| (Ordinal Data) Data w/ **> 2 categories** and **natural ordering** → Convert to ordered `category`.              |\n"
   ]
  }
 ],
 "metadata": {
  "kernelspec": {
   "display_name": ".venv",
   "language": "python",
   "name": "python3"
  },
  "language_info": {
   "name": "python",
   "version": "3.12.1"
  }
 },
 "nbformat": 4,
 "nbformat_minor": 2
}
